{
 "cells": [
  {
   "cell_type": "code",
   "execution_count": 1,
   "id": "df71069c-ca95-415a-883d-a08b9178778b",
   "metadata": {},
   "outputs": [
    {
     "name": "stdout",
     "output_type": "stream",
     "text": [
      "Python Version:\n",
      " 3.13.5 | packaged by Anaconda, Inc. | (main, Jun 12 2025, 16:37:03) [MSC v.1929 64 bit (AMD64)]\n",
      "\n",
      "Anaconda Version:\n",
      " # packages in environment at C:\\Users\\AsRock\\anaconda3:\n",
      "#\n",
      "# Name                     Version          Build            Channel\n",
      "\n"
     ]
    }
   ],
   "source": [
    "import sys\n",
    "print('Python Version:\\n', sys.version)\n",
    "import os\n",
    "result = os.popen('conda list anaconda$').read()\n",
    "print('\\nAnaconda Version:\\n', result)\n"
   ]
  },
  {
   "cell_type": "code",
   "execution_count": 3,
   "id": "5b9ce7a8-b965-4952-8b50-722f1d95de5a",
   "metadata": {},
   "outputs": [
    {
     "name": "stdout",
     "output_type": "stream",
     "text": [
      "       Month  Passengers\n",
      "0    1949-01         112\n",
      "1    1949-02         118\n",
      "2    1949-03         132\n",
      "3    1949-04         129\n",
      "4    1949-05         121\n",
      "..       ...         ...\n",
      "139  1960-08         606\n",
      "140  1960-09         508\n",
      "141  1960-10         461\n",
      "142  1960-11         390\n",
      "143  1960-12         432\n",
      "\n",
      "[144 rows x 2 columns]\n"
     ]
    }
   ],
   "source": [
    "import pyarrow.feather as feather\n",
    "read_df = feather.read_feather('air_passengers.feather')\n",
    "print(read_df)"
   ]
  },
  {
   "cell_type": "code",
   "execution_count": null,
   "id": "52919642-a8cb-45dd-af5e-0424f44a69f9",
   "metadata": {},
   "outputs": [],
   "source": []
  }
 ],
 "metadata": {
  "kernelspec": {
   "display_name": "Python 3 (ipykernel)",
   "language": "python",
   "name": "python3"
  },
  "language_info": {
   "codemirror_mode": {
    "name": "ipython",
    "version": 3
   },
   "file_extension": ".py",
   "mimetype": "text/x-python",
   "name": "python",
   "nbconvert_exporter": "python",
   "pygments_lexer": "ipython3",
   "version": "3.13.5"
  }
 },
 "nbformat": 4,
 "nbformat_minor": 5
}
